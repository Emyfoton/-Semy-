{
  "nbformat": 4,
  "nbformat_minor": 0,
  "metadata": {
    "colab": {
      "provenance": [],
      "authorship_tag": "ABX9TyMUmB91xz6rJqCwSM/c7SHM",
      "include_colab_link": true
    },
    "kernelspec": {
      "name": "python3",
      "display_name": "Python 3"
    },
    "language_info": {
      "name": "python"
    }
  },
  "cells": [
    {
      "cell_type": "markdown",
      "metadata": {
        "id": "view-in-github",
        "colab_type": "text"
      },
      "source": [
        "<a href=\"https://colab.research.google.com/github/Emyfoton/MetodosI_EmilyCastillo_SebastianRodriguez/blob/main/Parcial_1_Juanse_Emily.ipynb\" target=\"_parent\"><img src=\"https://colab.research.google.com/assets/colab-badge.svg\" alt=\"Open In Colab\"/></a>"
      ]
    },
    {
      "cell_type": "markdown",
      "source": [
        "Ejercicios: Raíces polinomios\n"
      ],
      "metadata": {
        "id": "Z2nC5HvzI_tc"
      }
    },
    {
      "cell_type": "code",
      "source": [
        "#Raíces de los primeros 5 polinomios de Laguerre\n",
        "import numpy as np\n",
        "import matplotlib.pyplot as plt\n",
        "import sympy as sp\n",
        "\n",
        "x = sp.symbols('x')\n",
        "\n",
        "def laguerre(n):\n",
        "    if n == 0:\n",
        "        return 1\n",
        "    elif n == 1:\n",
        "        return 1 - x\n",
        "    else:\n",
        "        L_n = laguerre(n-1)\n",
        "        L_n_minus_1 = laguerre(n-2)\n",
        "        return ((2*(n-1) + 1 - x) * L_n - (n-1) * L_n_minus_1) / n\n",
        "\n",
        "def derivada(f, x_val, h=1e-6):\n",
        "    return (f(x_val + h) - f(x_val)) / h\n",
        "\n",
        "def newton_raphson(f, df, x0, tol=1e-6, max_iter=100):\n",
        "    x_n = x0\n",
        "    for i in range(max_iter):\n",
        "        f_xn = f(x_n)\n",
        "        df_xn = df(x_n)\n",
        "\n",
        "        if df_xn == 0:\n",
        "            print(\"La derivada es cero en la iteración\", i, \". No se puede continuar.\")\n",
        "            return None\n",
        "\n",
        "        x_nuevo = x_n - f_xn / df_xn\n",
        "\n",
        "        if abs(x_nuevo - x_n) < tol:\n",
        "            print(\"Convergencia alcanzada en la iteración\", i, \". Raíz aproximada:\", x_nuevo)\n",
        "            return x_nuevo\n",
        "\n",
        "        x_n = x_nuevo\n",
        "\n",
        "    print(\"No se alcanzó la convergencia en el número máximo de iteraciones.\")\n",
        "    return None\n",
        "\n",
        "def funcion_numerica(Ln):\n",
        "    return sp.lambdify(x, Ln, \"numpy\")\n",
        "\n",
        "for n in range(1, 6):\n",
        "    L_n_simb = laguerre(n)\n",
        "    L_n_func = funcion_numerica(L_n_simb)\n",
        "    derivada_Ln_func = lambda x_val: derivada(L_n_func, x_val)\n",
        "\n",
        "    print(\"Polinomio de Laguerre L_\", n, \"(x):\", L_n_simb)\n",
        "\n",
        "    x0 = 1.0\n",
        "    raiz = newton_raphson(L_n_func, derivada_Ln_func, x0)\n",
        "\n",
        "    if raiz is not None:\n",
        "        print(\"Raíz aproximada del polinomio de Laguerre L_\", n, \"(x):\", raiz)\n",
        "    print('-' * 50)"
      ],
      "metadata": {
        "colab": {
          "base_uri": "https://localhost:8080/"
        },
        "id": "nAg4_puyJBgG",
        "outputId": "6fbe08b8-b0f7-49e2-e840-8180f9710004"
      },
      "execution_count": 60,
      "outputs": [
        {
          "output_type": "stream",
          "name": "stdout",
          "text": [
            "Polinomio de Laguerre L_ 1 (x): 1 - x\n",
            "Convergencia alcanzada en la iteración 0 . Raíz aproximada: 1.0\n",
            "Raíz aproximada del polinomio de Laguerre L_ 1 (x): 1.0\n",
            "--------------------------------------------------\n",
            "Polinomio de Laguerre L_ 2 (x): (1 - x)*(3 - x)/2 - 1/2\n",
            "Convergencia alcanzada en la iteración 4 . Raíz aproximada: 0.585786437626905\n",
            "Raíz aproximada del polinomio de Laguerre L_ 2 (x): 0.585786437626905\n",
            "--------------------------------------------------\n",
            "Polinomio de Laguerre L_ 3 (x): 2*x/3 + (5 - x)*((1 - x)*(3 - x)/2 - 1/2)/3 - 2/3\n",
            "Convergencia alcanzada en la iteración 5 . Raíz aproximada: 0.41577455678356495\n",
            "Raíz aproximada del polinomio de Laguerre L_ 3 (x): 0.41577455678356495\n",
            "--------------------------------------------------\n",
            "Polinomio de Laguerre L_ 4 (x): -3*(1 - x)*(3 - x)/8 + (7 - x)*(2*x/3 + (5 - x)*((1 - x)*(3 - x)/2 - 1/2)/3 - 2/3)/4 + 3/8\n",
            "Convergencia alcanzada en la iteración 4 . Raíz aproximada: 4.536620296921129\n",
            "Raíz aproximada del polinomio de Laguerre L_ 4 (x): 4.536620296921129\n",
            "--------------------------------------------------\n",
            "Polinomio de Laguerre L_ 5 (x): -8*x/15 - 4*(5 - x)*((1 - x)*(3 - x)/2 - 1/2)/15 + (9 - x)*(-3*(1 - x)*(3 - x)/8 + (7 - x)*(2*x/3 + (5 - x)*((1 - x)*(3 - x)/2 - 1/2)/3 - 2/3)/4 + 3/8)/5 + 8/15\n",
            "Convergencia alcanzada en la iteración 3 . Raíz aproximada: 1.4134030591065225\n",
            "Raíz aproximada del polinomio de Laguerre L_ 5 (x): 1.4134030591065225\n",
            "--------------------------------------------------\n"
          ]
        }
      ]
    },
    {
      "cell_type": "code",
      "source": [
        "#Minimización del camino óptico\n",
        "\n",
        "import numpy as np\n",
        "import matplotlib.pyplot as plt\n",
        "import sympy as sym\n",
        "\n",
        "T= np.array ([-3, 2])\n",
        "R= np.array ([2,-2])\n",
        "n0= 1\n",
        "n1= 1.33\n",
        "def camino_optico (x):\n",
        "  return (np.sqrt((x+3)**2+(4)))+(1.33*np.sqrt((x-2)**2+4))\n",
        "\n",
        "xd= np.linspace (-3,2,100)\n",
        "y= camino_optico(xd)\n",
        "plt.plot (xd,y, c= \"pink\")\n",
        "plt.xlabel('x')\n",
        "plt.ylabel('Camino óptico')\n",
        "plt.title('Camino óptico vs. x')\n",
        "\n",
        "plt.show ()\n",
        "\n",
        "\n",
        "def derivada_co (camino_optico, x, h=1e-5):\n",
        "  return (((camino_optico(x+h)-camino_optico(x-h)))/(2*h))\n",
        "\n",
        "def segunda_derivada (camino_optico, x, h=1e-5):\n",
        "    return (((camino_optico(x+h)-2*camino_optico(x)+camino_optico(x-h))/(h**2)))\n",
        "\n",
        "plt.plot(xd,derivada_co(camino_optico,xd,h), c= \"green\")\n",
        "plt.axhline(y=0)\n"
      ],
      "metadata": {
        "colab": {
          "base_uri": "https://localhost:8080/",
          "height": 903
        },
        "id": "KHfbYFOKJFVl",
        "outputId": "d76e9e87-29ea-4052-8204-db1b3d2513fa"
      },
      "execution_count": 62,
      "outputs": [
        {
          "output_type": "display_data",
          "data": {
            "text/plain": [
              "<Figure size 640x480 with 1 Axes>"
            ],
            "image/png": "[encoded data removed]"
          },
          "metadata": {}
        },
        {
          "output_type": "execute_result",
          "data": {
            "text/plain": [
              "<matplotlib.lines.Line2D at 0x7fbf10dbb1f0>"
            ]
          },
          "metadata": {},
          "execution_count": 62
        },
        {
          "output_type": "display_data",
          "data": {
            "text/plain": [
              "<Figure size 640x480 with 1 Axes>"
            ],
            "image/png": "[encoded data removed]"
          },
          "metadata": {}
        }
      ]
    },
    {
      "cell_type": "code",
      "source": [
        "def Newton(f,df,xo,itmax=1000,precision=1e-11):\n",
        "  error=1\n",
        "  i=0\n",
        "  while error > precision and i< itmax:\n",
        "    xn = xo - f(camino_optico,xo, h=1e-5)/df(camino_optico,xo, h=1e-5)\n",
        "    error = np.abs(f(camino_optico,xo, h=1e-5)/df(camino_optico,xo, h=1e-5))\n",
        "    xo = xn\n",
        "    i += 1\n",
        "  return xn"
      ],
      "metadata": {
        "id": "bjVNwEj9aZnw"
      },
      "execution_count": 57,
      "outputs": []
    },
    {
      "cell_type": "code",
      "source": [
        "Newton(derivada_co,segunda_derivada,1, itmax=1000, precision=1e-11)"
      ],
      "metadata": {
        "colab": {
          "base_uri": "https://localhost:8080/"
        },
        "id": "asx52EzjaofH",
        "outputId": "dc663b63-d82e-4e87-80a6-7c8449f4e810"
      },
      "execution_count": 58,
      "outputs": [
        {
          "output_type": "execute_result",
          "data": {
            "text/plain": [
              "0.3169057571335544"
            ]
          },
          "metadata": {},
          "execution_count": 58
        }
      ]
    },
    {
      "cell_type": "markdown",
      "source": [
        "Ejercicios: Interpolación de Lagrange"
      ],
      "metadata": {
        "id": "huNQr_6-JLZ6"
      }
    },
    {
      "cell_type": "code",
      "source": [
        "X = sym.Symbol('x', real=True)\n",
        "x_s=np.array([0,np.pi/3, np.pi/2])\n",
        "\n",
        "def f_1(x):\n",
        "  return np.sin(x)\n",
        "\n",
        "y=np.array(f_1(x_s))\n",
        "\n",
        "plt.scatter(x_s,y, color='r')\n",
        "\n",
        "def Bases_Cardinales(X,i,x_s):\n",
        "  Base=1\n",
        "  for j in range(len(x_s)):\n",
        "    if j!=i:\n",
        "      Base *= ((X-x_s[j])/(x_s[i]-x_s[j]))\n",
        "  return Base\n",
        "\n",
        "def Poly_interpolacion(X,x_s,y):\n",
        "  poly = 0\n",
        "  for i in range(len(x_s)):\n",
        "    poly += y[i]*Bases_Cardinales(X,i,x_s)\n",
        "  return poly\n",
        "\n",
        "xpoly=np.linspace(0,np.pi/2,100)\n",
        "plt.plot(xpoly,Poly_interpolacion(xpoly,x_s,y))\n",
        "plt.show()\n",
        "\n"
      ],
      "metadata": {
        "colab": {
          "base_uri": "https://localhost:8080/",
          "height": 430
        },
        "id": "ETMSaKFHJPhx",
        "outputId": "21b30c21-d29d-4166-ed51-c6c3f067855b"
      },
      "execution_count": 70,
      "outputs": [
        {
          "output_type": "display_data",
          "data": {
            "text/plain": [
              "<Figure size 640x480 with 1 Axes>"
            ],
            "image/png": "[encoded data removed]"
          },
          "metadata": {}
        }
      ]
    },
    {
      "cell_type": "code",
      "source": [
        "poly=Poly_interpolacion(X,x_s,y)\n",
        "poly.expand()"
      ],
      "metadata": {
        "colab": {
          "base_uri": "https://localhost:8080/",
          "height": 38
        },
        "id": "WEMYkgWuhs8n",
        "outputId": "490680ff-577d-469d-e42e-495bb85c3e4e"
      },
      "execution_count": 71,
      "outputs": [
        {
          "output_type": "execute_result",
          "data": {
            "text/plain": [
              "-0.363586737855857*x**2 + 1.2077404846629*x"
            ],
            "text/latex": "$\\displaystyle - 0.363586737855857 x^{2} + 1.2077404846629 x$"
          },
          "metadata": {},
          "execution_count": 71
        }
      ]
    },
    {
      "cell_type": "code",
      "source": [
        "Estimado = Poly_interpolacion(X,x_s,y).subs(X,np.pi/8)\n",
        "Estimado"
      ],
      "metadata": {
        "colab": {
          "base_uri": "https://localhost:8080/",
          "height": 37
        },
        "id": "snQdoAMlhvGH",
        "outputId": "503ff2a4-88f0-48d5-c757-57bfd4fb2c74"
      },
      "execution_count": 72,
      "outputs": [
        {
          "output_type": "execute_result",
          "data": {
            "text/plain": [
              "0.418208934443120"
            ],
            "text/latex": "$\\displaystyle 0.41820893444312$"
          },
          "metadata": {},
          "execution_count": 72
        }
      ]
    },
    {
      "cell_type": "code",
      "source": [
        "Valor_real = np.sin(np.pi/8)\n",
        "Valor_real"
      ],
      "metadata": {
        "colab": {
          "base_uri": "https://localhost:8080/"
        },
        "id": "P_Y0gCyWh1M7",
        "outputId": "e215d2c5-994d-4d82-980a-8adc521c946b"
      },
      "execution_count": 73,
      "outputs": [
        {
          "output_type": "execute_result",
          "data": {
            "text/plain": [
              "0.3826834323650898"
            ]
          },
          "metadata": {},
          "execution_count": 73
        }
      ]
    },
    {
      "cell_type": "code",
      "source": [
        "Error = abs(Valor_real-Estimado)\n",
        "Error"
      ],
      "metadata": {
        "colab": {
          "base_uri": "https://localhost:8080/",
          "height": 37
        },
        "id": "s1O5RnOFh25A",
        "outputId": "0a86aa60-d6ff-4c81-a131-629368ee4fd6"
      },
      "execution_count": 74,
      "outputs": [
        {
          "output_type": "execute_result",
          "data": {
            "text/plain": [
              "0.0355255020780303"
            ],
            "text/latex": "$\\displaystyle 0.0355255020780303$"
          },
          "metadata": {},
          "execution_count": 74
        }
      ]
    },
    {
      "cell_type": "code",
      "source": [
        "def tercera_derivada_exacta(x):\n",
        "  return np.cos(x)*(-1)\n",
        "\n",
        "E=tercera_derivada_exacta(np.pi/8)\n",
        "\n",
        "def Error_Chulo(X,E,x,n):\n",
        "  mult=1\n",
        "  for i in range(n):\n",
        "    mult *= (X-x[i])\n",
        "  return (E*mult)/(np.math.factorial(n+1))\n",
        "\n",
        "Error_Chulo(np.pi/8,E,x_s,2)"
      ],
      "metadata": {
        "colab": {
          "base_uri": "https://localhost:8080/"
        },
        "id": "20SihiLUhxtB",
        "outputId": "621c6125-4729-431b-9a23-7212dfbbeeff"
      },
      "execution_count": 75,
      "outputs": [
        {
          "output_type": "stream",
          "name": "stderr",
          "text": [
            "<ipython-input-75-97c893db79e8>:10: DeprecationWarning: `np.math` is a deprecated alias for the standard library `math` module (Deprecated Numpy 1.25). Replace usages of `np.math` with `math`\n",
            "  return (E*mult)/(np.math.factorial(n+1))\n"
          ]
        },
        {
          "output_type": "execute_result",
          "data": {
            "text/plain": [
              "0.0395760655388445"
            ]
          },
          "metadata": {},
          "execution_count": 75
        }
      ]
    }
  ]
}