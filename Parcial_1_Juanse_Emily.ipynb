{
  "nbformat": 4,
  "nbformat_minor": 0,
  "metadata": {
    "colab": {
      "provenance": [],
      "authorship_tag": "ABX9TyOPVz10Yeo9ZMuixB4CjvlW",
      "include_colab_link": true
    },
    "kernelspec": {
      "name": "python3",
      "display_name": "Python 3"
    },
    "language_info": {
      "name": "python"
    }
  },
  "cells": [
    {
      "cell_type": "markdown",
      "metadata": {
        "id": "view-in-github",
        "colab_type": "text"
      },
      "source": [
        "<a href=\"https://colab.research.google.com/github/Emyfoton/MetodosI_EmilyCastillo_SebastianRodriguez/blob/main/Parcial_1_Juanse_Emily.ipynb\" target=\"_parent\"><img src=\"https://colab.research.google.com/assets/colab-badge.svg\" alt=\"Open In Colab\"/></a>"
      ]
    },
    {
      "cell_type": "markdown",
      "source": [
        "Ejercicios: Raíces polinomios\n"
      ],
      "metadata": {
        "id": "Z2nC5HvzI_tc"
      }
    },
    {
      "cell_type": "code",
      "source": [
        "#Raíces de los primeros 5 polinomios de Laguerre"
      ],
      "metadata": {
        "id": "nAg4_puyJBgG"
      },
      "execution_count": null,
      "outputs": []
    },
    {
      "cell_type": "code",
      "source": [
        "#Minimización del camino óptico"
      ],
      "metadata": {
        "id": "KHfbYFOKJFVl"
      },
      "execution_count": null,
      "outputs": []
    },
    {
      "cell_type": "markdown",
      "source": [
        "Ejercicios: Interpolación de Lagrange"
      ],
      "metadata": {
        "id": "huNQr_6-JLZ6"
      }
    },
    {
      "cell_type": "code",
      "source": [
        "#Aproximación de la función sin(x)"
      ],
      "metadata": {
        "id": "ETMSaKFHJPhx"
      },
      "execution_count": null,
      "outputs": []
    }
  ]
}