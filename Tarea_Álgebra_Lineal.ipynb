{
  "nbformat": 4,
  "nbformat_minor": 0,
  "metadata": {
    "colab": {
      "provenance": [],
      "authorship_tag": "ABX9TyN/zAnWyPZY75lt8Z3Yrw+/",
      "include_colab_link": true
    },
    "kernelspec": {
      "name": "python3",
      "display_name": "Python 3"
    },
    "language_info": {
      "name": "python"
    }
  },
  "cells": [
    {
      "cell_type": "markdown",
      "metadata": {
        "id": "view-in-github",
        "colab_type": "text"
      },
      "source": [
        "<a href=\"https://colab.research.google.com/github/Emyfoton/MetodosI_EmilyCastillo_SebastianRodriguez/blob/main/Tarea_%C3%81lgebra_Lineal.ipynb\" target=\"_parent\"><img src=\"https://colab.research.google.com/assets/colab-badge.svg\" alt=\"Open In Colab\"/></a>"
      ]
    },
    {
      "cell_type": "code",
      "source": [
        "#Punto 2\n",
        "\n",
        "import numpy as np\n",
        "\n",
        "G0=(lambda x,y,z: 3*x - y - z - 1., \\\n",
        "    lambda x,y,z: -x + 3*y + z - 3., \\\n",
        "    lambda x,y,z: 2*x + y + 4*z - 7.)\n",
        "\n",
        "A=np.array([[3,-1,-1],[-1,3,1],[2,1,4]])\n",
        "b=np.array([1,3,7])\n",
        "\n",
        "def gauss_seidel(A, b, x0, tol=1e-6, max_iter=100000):\n",
        "\n",
        "   x = x0.copy()\n",
        "\n",
        "   for it in range(max_iter):\n",
        "\n",
        "    x_n = np.copy(x)\n",
        "\n",
        "    for i in range(A.shape[0]):\n",
        "      Suma = 0.\n",
        "      for j in range(A.shape[1]):\n",
        "        if i != j:\n",
        "          Suma += A[i,j]*x_n[j]\n",
        "\n",
        "          x_n[i] = (b[i] - Suma)/A[i,i]\n",
        "\n",
        "    print(x_n)\n",
        "\n",
        "    if np.linalg.norm((A@x_n)-b) < tol:\n",
        "      break\n",
        "\n",
        "    x = np.copy(x_n)\n",
        "\n",
        "\n",
        "   return x_n, it"
      ],
      "metadata": {
        "id": "TPleTAOKoCi4"
      },
      "execution_count": null,
      "outputs": []
    },
    {
      "cell_type": "code",
      "source": [
        "gauss_seidel(A,b,np.array([10,37,58]))"
      ],
      "metadata": {
        "colab": {
          "base_uri": "https://localhost:8080/"
        },
        "id": "zrdVywD2qgEh",
        "outputId": "52f13a60-677a-48a1-80a2-fbcb358e8950"
      },
      "execution_count": null,
      "outputs": [
        {
          "output_type": "stream",
          "name": "stdout",
          "text": [
            "[ 32  -7 -12]\n",
            "[-6  3  4]\n",
            "[2 0 0]\n",
            "[0 1 1]\n",
            "[1 1 1]\n"
          ]
        },
        {
          "output_type": "execute_result",
          "data": {
            "text/plain": [
              "(array([1, 1, 1]), 4)"
            ]
          },
          "metadata": {},
          "execution_count": 64
        }
      ]
    },
    {
      "cell_type": "code",
      "source": [
        "np.linalg.solve(A,b)"
      ],
      "metadata": {
        "colab": {
          "base_uri": "https://localhost:8080/"
        },
        "id": "AKkmeiHNq6Xg",
        "outputId": "e0819d75-e23a-4926-c4d3-bb25564148d0"
      },
      "execution_count": null,
      "outputs": [
        {
          "output_type": "execute_result",
          "data": {
            "text/plain": [
              "array([1., 1., 1.])"
            ]
          },
          "metadata": {},
          "execution_count": 22
        }
      ]
    },
    {
      "cell_type": "code",
      "execution_count": null,
      "metadata": {
        "colab": {
          "base_uri": "https://localhost:8080/"
        },
        "id": "iTMOZhO3lpZX",
        "outputId": "4a9d27c0-e255-409b-8b05-f4bd473737b9"
      },
      "outputs": [
        {
          "output_type": "stream",
          "name": "stdout",
          "text": [
            "Jacobi convergió en 14 iteraciones\n",
            "Gauss-Seidel convergió en 9 iteraciones\n",
            "Solución por Jacobi: [4.99995622 4.99992395 4.9999182  4.99993395]\n",
            "Solución por Gauss-Seidel: [4.99999542 4.99999671 4.99999847 4.99999949]\n"
          ]
        }
      ],
      "source": [
        "#Punto 3\n",
        "import numpy as np\n",
        "\n",
        "class Robot:\n",
        "    def __init__(self, matriz, vector):\n",
        "        self.matriz = np.array(matriz)\n",
        "        self.vector = np.array(vector)\n",
        "\n",
        "    def metodo_jacobi(self, max_iter=1000):\n",
        "        n = len(self.vector)\n",
        "        x = np.zeros(n)\n",
        "        iteraciones = 0\n",
        "\n",
        "        for iteraciones in range(max_iter):\n",
        "            x_nuevo = np.copy(x)\n",
        "            for i in range(n):\n",
        "                suma = sum(self.matriz[i][j] * x[j] for j in range(n) if j != i)\n",
        "                x_nuevo[i] = (self.vector[i] - suma) / self.matriz[i][i]\n",
        "\n",
        "            if np.allclose(x, x_nuevo, atol=1e-10):\n",
        "                break\n",
        "\n",
        "            x = x_nuevo\n",
        "        print(f\"Jacobi convergió en {iteraciones + 1} iteraciones\")\n",
        "        return x\n",
        "\n",
        "    def metodo_gauss_seidel(self, max_iter=1000):\n",
        "        n = len(self.vector)\n",
        "        x = np.zeros(n)\n",
        "        iteraciones = 0\n",
        "\n",
        "        for iteraciones in range(max_iter):\n",
        "            x_anterior = np.copy(x)\n",
        "\n",
        "            for i in range(n):\n",
        "                suma = sum(self.matriz[i][j] * x[j] for j in range(n) if j != i)\n",
        "                x[i] = (self.vector[i] - suma) / self.matriz[i][i]\n",
        "\n",
        "            if np.allclose(x, x_anterior, atol=1e-10):\n",
        "                break\n",
        "\n",
        "        print(f\"Gauss-Seidel convergió en {iteraciones + 1} iteraciones\")\n",
        "        return x\n",
        "\n",
        "matriz = [[4, -1, 0, 0],\n",
        "          [-1, 4, -1, 0],\n",
        "          [0, -1, 4, -1],\n",
        "          [0, 0, -1, 3]]\n",
        "\n",
        "vector = [15, 10, 10, 10]\n",
        "\n",
        "robot = Robot(matriz, vector)\n",
        "solucion_jacobi = robot.metodo_jacobi()\n",
        "solucion_gauss_seidel = robot.metodo_gauss_seidel()\n",
        "\n",
        "print(f\"Solución por Jacobi: {solucion_jacobi}\")\n",
        "print(f\"Solución por Gauss-Seidel: {solucion_gauss_seidel}\")\n",
        "\n"
      ]
    },
    {
      "cell_type": "code",
      "source": [
        "# Punto 4\n",
        "\n",
        "matriz1=np.array([[1,0,0],[5,1,0],[-2,3,1]])\n",
        "matriz2=np.array([[4,-2,1],[0,3,7],[0,0,2]])\n",
        "\n",
        "\n",
        "def multiplicar_matrices(matriz1, matriz2):\n",
        "  n=len(matriz1)\n",
        "  m=len(matriz2[0])\n",
        "  p=len(matriz2)\n",
        "  x=np.zeros((n,m))\n",
        "  if n!=m:\n",
        "    print(\"No se puede multiplicar\")\n",
        "  else:\n",
        "    for i in range(n):\n",
        "      for j in range(m):\n",
        "        for k in range(p):\n",
        "         x[i][j] += matriz1[i][k] * matriz2[k][j]\n",
        "  return x"
      ],
      "metadata": {
        "id": "aqYsVPsCTN_8"
      },
      "execution_count": null,
      "outputs": []
    },
    {
      "cell_type": "code",
      "source": [
        "# Punto 8\n",
        "\n",
        "matriz=np.array([[4,-2,1],[20,-7,12],[-8,13,17]])\n",
        "\n",
        "def LU(matriz):\n",
        "  L=np.zeros_like(matriz)\n",
        "  for i in range(len(L)):\n",
        "    for j in range(len(L[0])):\n",
        "      if i==j:\n",
        "        L[i][j]=1\n",
        "\n",
        "  U = matriz.astype(np.float64)\n",
        "  n = U.shape[0]\n",
        "\n",
        "  for k in range(n):\n",
        "      for w in range(k+1,n):\n",
        "          u = U[w,k]/U[k,k]\n",
        "          L[w,k]=u\n",
        "          U[w,:] -= u*U[k,:]\n",
        "\n",
        "  return L,U"
      ],
      "metadata": {
        "id": "vdiktZWVv4O1"
      },
      "execution_count": null,
      "outputs": []
    },
    {
      "cell_type": "code",
      "source": [
        "LU(matriz)"
      ],
      "metadata": {
        "colab": {
          "base_uri": "https://localhost:8080/"
        },
        "id": "bTH7ZFxc45V-",
        "outputId": "7cd76920-9234-4a82-8e0a-50ddf627ebf8"
      },
      "execution_count": null,
      "outputs": [
        {
          "output_type": "execute_result",
          "data": {
            "text/plain": [
              "(array([[ 1,  0,  0],\n",
              "        [ 5,  1,  0],\n",
              "        [-2,  3,  1]]),\n",
              " array([[ 4., -2.,  1.],\n",
              "        [ 0.,  3.,  7.],\n",
              "        [ 0.,  0., -2.]]))"
            ]
          },
          "metadata": {},
          "execution_count": 5
        }
      ]
    },
    {
      "cell_type": "code",
      "source": [
        "#Punto 10\n",
        "\n",
        "import numpy as np\n",
        "\n",
        "def maxdiagonal(A):\n",
        "    n = len(A)\n",
        "    val_max = 0\n",
        "    p = 0\n",
        "    q = 1\n",
        "    for i in range(n):\n",
        "        for j in range(i+1, n):\n",
        "            if abs(A[i, j]) > val_max:\n",
        "                val_max = abs(A[i, j])\n",
        "                p = i\n",
        "                q = j\n",
        "    return p, q\n",
        "\n",
        "def id(n):\n",
        "  L=np.zeros_like(n)\n",
        "  for i in range(len(L)):\n",
        "    for j in range(len(L[0])):\n",
        "      if i==j:\n",
        "        L[i][j]=1\n",
        "      else:\n",
        "        L[i][j]=0\n",
        "  return L\n",
        "\n",
        "def jacobi(A, tol=1e-10, max_iter=100):\n",
        "    n = len(A)\n",
        "    vectorpropio = np.eye(n)\n",
        "    for iteration in range(max_iter):\n",
        "        p, q = maxdiagonal(A)\n",
        "\n",
        "        if abs(A[p, q]) < tol:\n",
        "            break\n",
        "\n",
        "        if A[p, p] == A[q, q]:\n",
        "            theta = np.pi / 4\n",
        "        else:\n",
        "            theta = 0.5 * np.arctan(2 * A[p, q] / (A[p, p] - A[q, q]))\n",
        "\n",
        "        R = np.eye(n)\n",
        "        R[p, p] = np.cos(theta)\n",
        "        R[q, q] = np.cos(theta)\n",
        "        R[p, q] = -np.sin(theta)\n",
        "        R[q, p] = np.sin(theta)\n",
        "\n",
        "        A = R.T @ A @ R\n",
        "\n",
        "        vectorpropio = vectorpropio @ R\n",
        "\n",
        "    valorespropios = np.diag(A)\n",
        "\n",
        "    return valorespropios, vectorpropio\n",
        "\n",
        "A = np.array([[4, 1, 1],\n",
        "              [1, 3, 2],\n",
        "              [1, 2, 5]], dtype=float)\n",
        "\n",
        "valorespropios, vectorpropio = jacobi(A)\n",
        "\n",
        "print(\"Valores propios:\")\n",
        "print(valorespropios)\n",
        "print(\"Vectores propios:\")\n",
        "print(vectorpropio)\n"
      ],
      "metadata": {
        "colab": {
          "base_uri": "https://localhost:8080/"
        },
        "id": "6srZBnJjOyPz",
        "outputId": "00abb2bd-7a5b-4a5b-e8f9-0ec141667313"
      },
      "execution_count": null,
      "outputs": [
        {
          "output_type": "stream",
          "name": "stdout",
          "text": [
            "Valores propios:\n",
            "[3.39729507 1.70759841 6.89510652]\n",
            "Vectores propios:\n",
            "[[ 0.88573564 -0.17059871  0.43170413]\n",
            " [-0.07589338  0.86427949  0.49725362]\n",
            " [-0.45794385 -0.47319874  0.75257583]]\n"
          ]
        }
      ]
    },
    {
      "cell_type": "code",
      "source": [
        "valorespropios_teorico, vectorpropio_teorico = np.linalg.eig(A)\n",
        "\n",
        "print(\"\\nValores propios teóricos:\")\n",
        "print(valorespropios_teorico)\n",
        "print(\"Vectores propios teóricos:\")\n",
        "print(vectorpropio_teorico)"
      ],
      "metadata": {
        "colab": {
          "base_uri": "https://localhost:8080/"
        },
        "id": "Ic51CwJNuDoN",
        "outputId": "c81f6959-0145-43d6-b44f-3f3ad69418f7"
      },
      "execution_count": null,
      "outputs": [
        {
          "output_type": "stream",
          "name": "stdout",
          "text": [
            "\n",
            "Valores propios teóricos:\n",
            "[6.89510652 3.39729507 1.70759841]\n",
            "Vectores propios teóricos:\n",
            "[[ 0.43170413  0.88573564  0.17059871]\n",
            " [ 0.49725362 -0.07589338 -0.86427949]\n",
            " [ 0.75257583 -0.45794385  0.47319874]]\n"
          ]
        }
      ]
    },
    {
      "cell_type": "code",
      "source": [
        "# Punto 13\n",
        "\n",
        "def Jacobian_4(f,r,h=0.01):\n",
        "\n",
        "  n = r.shape[0]\n",
        "\n",
        "  J = np.zeros((n,n))\n",
        "\n",
        "  for i in range(n):\n",
        "    for j in range(n):\n",
        "\n",
        "      d_rf = r.copy()\n",
        "      d_rb = r.copy()\n",
        "      rf = r.copy()\n",
        "      rb = r.copy()\n",
        "\n",
        "      d_rf[j] = d_rf[j] + 2*h\n",
        "      rf[j] = rf[j] + h\n",
        "      rb[j] = rb[j] - h\n",
        "      d_rb[j] = d_rb[j] - 2*h\n",
        "\n",
        "      J[i,j] = (-f[i](d_rf[0],d_rf[1],d_rf[2]) + 8*f[i](rf[0],rf[1],rf[2]) - 8*f[i](rb[0],rb[1],rb[2]) + f[i](d_rb[0],d_rb[1],d_rb[2]))/(12*h)\n",
        "\n",
        "  return J"
      ],
      "metadata": {
        "id": "_XJnz3FIR8Qp"
      },
      "execution_count": null,
      "outputs": []
    },
    {
      "cell_type": "code",
      "source": [
        "Jacobian_4(F2,np.array([0.5,0.5,0.5]))"
      ],
      "metadata": {
        "colab": {
          "base_uri": "https://localhost:8080/"
        },
        "id": "2WrlHFW9Viaj",
        "outputId": "274bb66d-89e7-4efe-dc8d-5d936dcf274d"
      },
      "execution_count": null,
      "outputs": [
        {
          "output_type": "execute_result",
          "data": {
            "text/plain": [
              "array([[ 6.        ,  0.24740396,  0.24740396],\n",
              "       [ 0.37377753,  9.        ,  0.32802064],\n",
              "       [-1.16820117, -1.16820117, 60.        ]])"
            ]
          },
          "metadata": {},
          "execution_count": 12
        }
      ]
    },
    {
      "cell_type": "code",
      "source": [
        "GetJacobian2(F2,np.array([0.5,0.5,0.5]))"
      ],
      "metadata": {
        "colab": {
          "base_uri": "https://localhost:8080/"
        },
        "id": "EuRH-xhUVrEN",
        "outputId": "4f30d439-304c-48fa-c50e-216b3de3abff"
      },
      "execution_count": null,
      "outputs": [
        {
          "output_type": "execute_result",
          "data": {
            "text/plain": [
              "array([[ 6.        ,  0.24740396,  0.24740396],\n",
              "       [ 0.37377753,  9.        ,  0.32802064],\n",
              "       [-1.16820118, -1.16820118, 60.        ]])"
            ]
          },
          "metadata": {},
          "execution_count": 13
        }
      ]
    },
    {
      "cell_type": "code",
      "source": [
        "# Punto 14\n",
        "\n",
        "import sympy as sp\n",
        "\n",
        "Jx = sp.Matrix([[0, 0, 0],\n",
        "                [0, 0, -1],\n",
        "                [0, 1, 0]])\n",
        "\n",
        "Jy = sp.Matrix([[0, 0, 1],\n",
        "                [0, 0, 0],\n",
        "                [-1, 0, 0]])\n",
        "\n",
        "Jz = sp.Matrix([[0, -1, 0],\n",
        "                [1, 0, 0],\n",
        "                [0, 0, 0]])\n",
        "\n",
        "comm_Jx_Jy = Jx*Jy - Jy*Jx  #Levi-Civita debe ser de 1\n",
        "comm_Jy_Jx = Jy*Jx - Jx*Jy  #Levi-Civita debe ser de -1\n",
        "comm_Jx_Jx = Jx*Jx - Jx*Jx  #Levi-Civita debe ser de 0\n",
        "\n",
        "\n",
        "comm_Jy_Jz = Jy*Jz - Jz*Jy  #Levi-Civita debe ser de 1\n",
        "comm_Jz_Jy = Jz*Jy - Jy*Jz  #Levi-Civita debe ser de -1\n",
        "comm_Jy_Jy = Jy*Jy - Jy*Jy  #Levi-Civita debe ser de 0\n",
        "\n",
        "\n",
        "comm_Jz_Jx = Jz*Jx - Jx*Jz  #Levi-Civita debe ser de 1\n",
        "comm_Jx_Jz = Jx*Jz - Jz*Jx  #Levi-Civita debe ser de -1\n",
        "comm_Jz_Jz = Jz*Jz - Jz*Jz  #Levi-Civita debe ser de 0\n"
      ],
      "metadata": {
        "id": "RnGPXX6NCHrS"
      },
      "execution_count": null,
      "outputs": []
    },
    {
      "cell_type": "code",
      "source": [
        "comm_Jx_Jy"
      ],
      "metadata": {
        "colab": {
          "base_uri": "https://localhost:8080/",
          "height": 78
        },
        "id": "pB0wth3TLTRz",
        "outputId": "9435c31b-e58b-4a41-a6cb-fdb09981f278"
      },
      "execution_count": null,
      "outputs": [
        {
          "output_type": "execute_result",
          "data": {
            "text/plain": [
              "Matrix([\n",
              "[0, -1, 0],\n",
              "[1,  0, 0],\n",
              "[0,  0, 0]])"
            ],
            "text/latex": "$\\displaystyle \\left[\\begin{matrix}0 & -1 & 0\\\\1 & 0 & 0\\\\0 & 0 & 0\\end{matrix}\\right]$"
          },
          "metadata": {},
          "execution_count": 22
        }
      ]
    },
    {
      "cell_type": "code",
      "source": [
        "comm_Jy_Jx"
      ],
      "metadata": {
        "colab": {
          "base_uri": "https://localhost:8080/",
          "height": 78
        },
        "id": "JWq-sAH6CPqk",
        "outputId": "508d919c-56c8-40dd-9595-c8ad7c964b68"
      },
      "execution_count": null,
      "outputs": [
        {
          "output_type": "execute_result",
          "data": {
            "text/plain": [
              "Matrix([\n",
              "[ 0, 1, 0],\n",
              "[-1, 0, 0],\n",
              "[ 0, 0, 0]])"
            ],
            "text/latex": "$\\displaystyle \\left[\\begin{matrix}0 & 1 & 0\\\\-1 & 0 & 0\\\\0 & 0 & 0\\end{matrix}\\right]$"
          },
          "metadata": {},
          "execution_count": 23
        }
      ]
    },
    {
      "cell_type": "code",
      "source": [
        "comm_Jx_Jx"
      ],
      "metadata": {
        "colab": {
          "base_uri": "https://localhost:8080/",
          "height": 78
        },
        "id": "WSC3yKfXMgov",
        "outputId": "91662db4-5388-4dd8-b667-e9d4b0e9c6fc"
      },
      "execution_count": null,
      "outputs": [
        {
          "output_type": "execute_result",
          "data": {
            "text/plain": [
              "Matrix([\n",
              "[0, 0, 0],\n",
              "[0, 0, 0],\n",
              "[0, 0, 0]])"
            ],
            "text/latex": "$\\displaystyle \\left[\\begin{matrix}0 & 0 & 0\\\\0 & 0 & 0\\\\0 & 0 & 0\\end{matrix}\\right]$"
          },
          "metadata": {},
          "execution_count": 24
        }
      ]
    },
    {
      "cell_type": "code",
      "source": [
        "comm_Jy_Jz"
      ],
      "metadata": {
        "colab": {
          "base_uri": "https://localhost:8080/",
          "height": 78
        },
        "id": "Ml86Ihv6Lafo",
        "outputId": "d48c9a7c-93eb-464e-f361-301d2d14378a"
      },
      "execution_count": null,
      "outputs": [
        {
          "output_type": "execute_result",
          "data": {
            "text/plain": [
              "Matrix([\n",
              "[0, 0,  0],\n",
              "[0, 0, -1],\n",
              "[0, 1,  0]])"
            ],
            "text/latex": "$\\displaystyle \\left[\\begin{matrix}0 & 0 & 0\\\\0 & 0 & -1\\\\0 & 1 & 0\\end{matrix}\\right]$"
          },
          "metadata": {},
          "execution_count": 25
        }
      ]
    },
    {
      "cell_type": "code",
      "source": [
        "comm_Jz_Jy\n"
      ],
      "metadata": {
        "colab": {
          "base_uri": "https://localhost:8080/",
          "height": 78
        },
        "id": "4_0qzGfYJe_7",
        "outputId": "df4abbed-2eed-4bb3-91db-78ff1f32b59c"
      },
      "execution_count": null,
      "outputs": [
        {
          "output_type": "execute_result",
          "data": {
            "text/plain": [
              "Matrix([\n",
              "[0,  0, 0],\n",
              "[0,  0, 1],\n",
              "[0, -1, 0]])"
            ],
            "text/latex": "$\\displaystyle \\left[\\begin{matrix}0 & 0 & 0\\\\0 & 0 & 1\\\\0 & -1 & 0\\end{matrix}\\right]$"
          },
          "metadata": {},
          "execution_count": 26
        }
      ]
    },
    {
      "cell_type": "code",
      "source": [
        "comm_Jy_Jy"
      ],
      "metadata": {
        "colab": {
          "base_uri": "https://localhost:8080/",
          "height": 78
        },
        "id": "M4RvtYNjMnAv",
        "outputId": "59b56364-d8f2-4e72-b619-50a2b1a53bd8"
      },
      "execution_count": null,
      "outputs": [
        {
          "output_type": "execute_result",
          "data": {
            "text/plain": [
              "Matrix([\n",
              "[0, 0, 0],\n",
              "[0, 0, 0],\n",
              "[0, 0, 0]])"
            ],
            "text/latex": "$\\displaystyle \\left[\\begin{matrix}0 & 0 & 0\\\\0 & 0 & 0\\\\0 & 0 & 0\\end{matrix}\\right]$"
          },
          "metadata": {},
          "execution_count": 27
        }
      ]
    },
    {
      "cell_type": "code",
      "source": [
        "comm_Jz_Jx"
      ],
      "metadata": {
        "colab": {
          "base_uri": "https://localhost:8080/",
          "height": 78
        },
        "id": "vUpsEtuOL59u",
        "outputId": "3e28cee4-5f3a-4f03-c06a-101f030ee472"
      },
      "execution_count": null,
      "outputs": [
        {
          "output_type": "execute_result",
          "data": {
            "text/plain": [
              "Matrix([\n",
              "[ 0, 0, 1],\n",
              "[ 0, 0, 0],\n",
              "[-1, 0, 0]])"
            ],
            "text/latex": "$\\displaystyle \\left[\\begin{matrix}0 & 0 & 1\\\\0 & 0 & 0\\\\-1 & 0 & 0\\end{matrix}\\right]$"
          },
          "metadata": {},
          "execution_count": 28
        }
      ]
    },
    {
      "cell_type": "code",
      "source": [
        "comm_Jx_Jz"
      ],
      "metadata": {
        "colab": {
          "base_uri": "https://localhost:8080/",
          "height": 78
        },
        "id": "ILdz3XnTJhhl",
        "outputId": "09144f18-feb4-4e27-d460-2bd8161826d3"
      },
      "execution_count": null,
      "outputs": [
        {
          "output_type": "execute_result",
          "data": {
            "text/plain": [
              "Matrix([\n",
              "[0, 0, -1],\n",
              "[0, 0,  0],\n",
              "[1, 0,  0]])"
            ],
            "text/latex": "$\\displaystyle \\left[\\begin{matrix}0 & 0 & -1\\\\0 & 0 & 0\\\\1 & 0 & 0\\end{matrix}\\right]$"
          },
          "metadata": {},
          "execution_count": 29
        }
      ]
    },
    {
      "cell_type": "code",
      "source": [
        "comm_Jz_Jz"
      ],
      "metadata": {
        "colab": {
          "base_uri": "https://localhost:8080/",
          "height": 78
        },
        "id": "_E_HGqYCMvgf",
        "outputId": "f6646c3c-9e42-41f1-f4dd-ef406a9789f1"
      },
      "execution_count": null,
      "outputs": [
        {
          "output_type": "execute_result",
          "data": {
            "text/plain": [
              "Matrix([\n",
              "[0, 0, 0],\n",
              "[0, 0, 0],\n",
              "[0, 0, 0]])"
            ],
            "text/latex": "$\\displaystyle \\left[\\begin{matrix}0 & 0 & 0\\\\0 & 0 & 0\\\\0 & 0 & 0\\end{matrix}\\right]$"
          },
          "metadata": {},
          "execution_count": 30
        }
      ]
    }
  ]
}